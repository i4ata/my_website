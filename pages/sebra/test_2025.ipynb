{
 "cells": [
  {
   "cell_type": "code",
   "execution_count": 1,
   "id": "78f73abf-bb77-449e-8cd3-cf229bc4b489",
   "metadata": {},
   "outputs": [],
   "source": [
    "import pandas as pd\n",
    "import os\n",
    "import numpy as np\n",
    "import sqlite3"
   ]
  },
  {
   "cell_type": "code",
   "execution_count": 2,
   "id": "5d97f5cf-51c8-42fe-a489-6f17aa8ffaab",
   "metadata": {},
   "outputs": [
    {
     "data": {
      "text/plain": [
       "(100021, 17)"
      ]
     },
     "execution_count": 2,
     "metadata": {},
     "output_type": "execute_result"
    }
   ],
   "source": [
    "path = os.path.join('data', 'За периода 01.01.2025 г. - 31.03.2025 г..csv')\n",
    "df = pd.read_csv(path, encoding='utf-8-sig', engine='python', quotechar='\"')\n",
    "df.shape"
   ]
  },
  {
   "cell_type": "code",
   "execution_count": 3,
   "id": "966661fd-9d6f-4ede-b8b2-33148bc4134b",
   "metadata": {},
   "outputs": [
    {
     "data": {
      "text/plain": [
       "Index(['SETTLEMENT_DATE', 'CLIENT_RECEIVER_NAME', 'CLIENT_RECEIVER_ACC',\n",
       "       'CLIENT_RECEIVER_BIC', 'FIN_CODE', 'FIN_NAME', 'AMOUNT', 'CURRENCY',\n",
       "       'REASON1', 'REASON2', 'REG_DATE', 'REG_NO', 'SEBRA_PAY_CODE',\n",
       "       'ORGANIZATION', 'PRIMARY_ORGANIZATION', 'PRIMARY_ORG_CODE',\n",
       "       'CLIENT_NAME_HASH'],\n",
       "      dtype='object')"
      ]
     },
     "execution_count": 3,
     "metadata": {},
     "output_type": "execute_result"
    }
   ],
   "source": [
    "df.columns"
   ]
  },
  {
   "cell_type": "code",
   "execution_count": 4,
   "id": "8245b732-8ffb-489c-9516-612cf4aaa892",
   "metadata": {},
   "outputs": [],
   "source": [
    "date_cols = ['SETTLEMENT_DATE', 'REG_DATE']\n",
    "for col in date_cols:\n",
    "    df[col] = pd.to_datetime(df[col], format='%d.%m.%Y')"
   ]
  },
  {
   "cell_type": "code",
   "execution_count": 5,
   "id": "7100b604-ead5-4542-9107-0702d8c52c51",
   "metadata": {},
   "outputs": [],
   "source": [
    "df = df.drop('CURRENCY', axis='columns')\n",
    "df['ORGANIZATION'] = df['ORGANIZATION'].str.replace('Централно управление', 'ЦУ')\n",
    "for x in df.query('ORGANIZATION == \"ЦУ\"')['PRIMARY_ORGANIZATION'].unique():\n",
    "    df.loc[(df['PRIMARY_ORGANIZATION']==x) & (df['ORGANIZATION'] == 'ЦУ'), 'ORGANIZATION'] = x+' - ЦУ'"
   ]
  },
  {
   "cell_type": "code",
   "execution_count": 6,
   "id": "0932216b-404f-4dac-8924-5a572ed6d055",
   "metadata": {},
   "outputs": [],
   "source": [
    "assert df.groupby('PRIMARY_ORG_CODE')['PRIMARY_ORGANIZATION'].nunique().nunique() == 1\n",
    "assert df.groupby('ORGANIZATION')['PRIMARY_ORG_CODE'].nunique().nunique() == 1\n",
    "orgs = df.groupby('ORGANIZATION', as_index=False)[['PRIMARY_ORGANIZATION', 'PRIMARY_ORG_CODE']].first()\n",
    "assert orgs['ORGANIZATION'].nunique() == len(orgs)"
   ]
  },
  {
   "cell_type": "code",
   "execution_count": 7,
   "id": "566c72f3-3508-42de-8fcf-435b7e17008c",
   "metadata": {},
   "outputs": [],
   "source": [
    "df['ORGANIZATION_ID'] = df['ORGANIZATION'].map(orgs['ORGANIZATION'].reset_index().rename({'index': 'ORGANIZATION_ID'}, axis=1).set_index('ORGANIZATION')['ORGANIZATION_ID'])\n",
    "df = df.drop(['ORGANIZATION', 'PRIMARY_ORGANIZATION', 'PRIMARY_ORG_CODE'], axis='columns')"
   ]
  },
  {
   "cell_type": "code",
   "execution_count": 8,
   "id": "52be1ae9-b1af-4ec1-bece-a9b033f0f89d",
   "metadata": {},
   "outputs": [],
   "source": [
    "assert orgs.groupby('PRIMARY_ORG_CODE')['PRIMARY_ORGANIZATION'].nunique().nunique() == 1\n",
    "primary_orgs = orgs.groupby('PRIMARY_ORG_CODE')['PRIMARY_ORGANIZATION'].first()\n",
    "orgs = orgs.drop('PRIMARY_ORGANIZATION', axis='columns')"
   ]
  },
  {
   "cell_type": "code",
   "execution_count": 9,
   "id": "ed70350d-8389-40c8-9769-6ca856881a45",
   "metadata": {},
   "outputs": [],
   "source": [
    "assert df.groupby('CLIENT_NAME_HASH')['CLIENT_RECEIVER_NAME'].nunique().nunique() == 1\n",
    "clients = df.groupby('CLIENT_NAME_HASH', as_index=False)['CLIENT_RECEIVER_NAME'].first()"
   ]
  },
  {
   "cell_type": "code",
   "execution_count": 10,
   "id": "8296d218-034f-4222-a7d1-8af7c7e13ba0",
   "metadata": {},
   "outputs": [],
   "source": [
    "df['CLIENT_ID'] = df['CLIENT_NAME_HASH'].map(clients['CLIENT_NAME_HASH'].reset_index().rename({'index': 'CLIENT_ID'}, axis=1).set_index('CLIENT_NAME_HASH')['CLIENT_ID'])\n",
    "df = df.drop(['CLIENT_NAME_HASH', 'CLIENT_RECEIVER_NAME'], axis=1)\n",
    "clients = clients['CLIENT_RECEIVER_NAME']"
   ]
  },
  {
   "cell_type": "code",
   "execution_count": 11,
   "id": "3d3da6a1-0eb0-4abf-8cae-87d33742197a",
   "metadata": {},
   "outputs": [],
   "source": [
    "df = df[['SETTLEMENT_DATE', 'AMOUNT', 'SEBRA_PAY_CODE', 'ORGANIZATION_ID', 'CLIENT_ID', 'REASON1', 'REASON2']]"
   ]
  },
  {
   "cell_type": "code",
   "execution_count": 12,
   "id": "f1ad1a36-1b6b-42d0-b197-120aff731e3a",
   "metadata": {},
   "outputs": [],
   "source": [
    "sebra = pd.Series(\n",
    "    data={\n",
    "        1: 'Заплати, възнаграждения и други плащания за персонала - нетна сума за изплащане',\n",
    "        2: 'Удържани данъци и осигурителни вноски от заплати и възнаграждения за персонала',\n",
    "        3: 'Плащания за други удръжки от възнаграждения за персонала',\n",
    "        5: 'Осигурителни вноски за сметка на осигурителя (с изключение на централизирано разплащане на осигурителни вноски)',\n",
    "        10: 'Издръжка',\n",
    "        18: 'Други разходи',\n",
    "        20: 'Разходи за лихви',\n",
    "        30: 'Текущи субсидии за предприятия',\n",
    "        40: 'Стипендии, пенсии, помощи и текущи трансфери за домакинства',\n",
    "        50: 'Плащания за дълготрайни активи, основен ремонт и капиталови трансфери',\n",
    "        60: 'Трансфери за бюджетни и извънбюджетни сметки',\n",
    "        70: 'Възмездно финансиране - придобиване на дялове и акции, предоставени кредити и временна финансова помощ',\n",
    "        80: 'Погашения по банкови заеми',\n",
    "        88: 'Средства на разпореждане - плащания по операции с временно съхранявани средства и средства на разпореждане',\n",
    "        89: 'Друго финансиране - плащания за сметка на ЕС, плащания по операции с чужди средства и всички други операции в частта на финансирането, които не са  обхванати от кодове 70, 80 и 88.',\n",
    "        90: 'Възстановени приходи - плащания за възстановяване на надвнесени и погрешно внесени бюджетни приходи',\n",
    "        91: 'Теглене на левове в брой',\n",
    "        92: 'Закупуване на валута в брой',\n",
    "        93: 'Закупуване на валута в брой, по сметка и за директен превод',\n",
    "        94: 'Откриване на акредитив',\n",
    "        95: 'Преводи чрез директен дебит и по инициатива на БНБ',\n",
    "        96: 'Преводи по нареждане на титуляра с други платежни документи',\n",
    "        97: 'Операции по откриване/закриване на депозити'\n",
    "    },\n",
    "    name='DESCRIPTION'\n",
    ")"
   ]
  },
  {
   "cell_type": "code",
   "execution_count": 13,
   "id": "66a47f86-31ad-4ede-ae8f-c5b47a05f2a8",
   "metadata": {},
   "outputs": [
    {
     "data": {
      "text/plain": [
       "23"
      ]
     },
     "execution_count": 13,
     "metadata": {},
     "output_type": "execute_result"
    }
   ],
   "source": [
    "connection = sqlite3.connect('sebra.db')\n",
    "\n",
    "to_sql = lambda df, table_name, index_name: df.to_sql(table_name, connection, if_exists='replace', index_label=index_name)\n",
    "to_sql(df, 'payments', 'PAYMENT_ID')\n",
    "to_sql(orgs, 'organizations', 'ORGANIZATION_ID')\n",
    "to_sql(primary_orgs, 'primary_organizations', 'PRIMARY_ORG_CODE')\n",
    "to_sql(clients, 'clients', 'CLIENT_ID')\n",
    "to_sql(sebra, 'sebra_codes', 'SEBRA_PAY_CODE')"
   ]
  }
 ],
 "metadata": {
  "kernelspec": {
   "display_name": "Python 3 (ipykernel)",
   "language": "python",
   "name": "python3"
  },
  "language_info": {
   "codemirror_mode": {
    "name": "ipython",
    "version": 3
   },
   "file_extension": ".py",
   "mimetype": "text/x-python",
   "name": "python",
   "nbconvert_exporter": "python",
   "pygments_lexer": "ipython3",
   "version": "3.10.12"
  }
 },
 "nbformat": 4,
 "nbformat_minor": 5
}
